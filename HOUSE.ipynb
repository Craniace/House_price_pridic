{
 "cells": [
  {
   "cell_type": "code",
   "execution_count": 17,
   "id": "ee5febe1",
   "metadata": {},
   "outputs": [],
   "source": [
    "# import necessary libraries\n",
    "import tkinter as tk\n",
    "from tkinter import messagebox\n",
    "import pandas as pd\n",
    "from sklearn.linear_model import LinearRegression\n",
    "import os"
   ]
  },
  {
   "cell_type": "code",
   "execution_count": 18,
   "id": "9cb437b4",
   "metadata": {},
   "outputs": [
    {
     "data": {
      "text/plain": [
       "''"
      ]
     },
     "execution_count": 18,
     "metadata": {},
     "output_type": "execute_result"
    }
   ],
   "source": [
    "# create a tkinter window\n",
    "window = tk.Tk()\n",
    "window.title(\"House Price Prediction\")"
   ]
  },
  {
   "cell_type": "code",
   "execution_count": 19,
   "id": "5e41e1f9",
   "metadata": {},
   "outputs": [],
   "source": [
    "# create labels and entry widgets for house features\n",
    "label_area = tk.Label(window, text=\"Area (sq ft): \")\n",
    "label_area.grid(column=0, row=0, padx=10, pady=10)\n",
    "entry_area = tk.Entry(window)\n",
    "entry_area.grid(column=1, row=0)\n",
    "\n",
    "label_bedrooms = tk.Label(window, text=\"Number of bedrooms: \")\n",
    "label_bedrooms.grid(column=0, row=1, padx=10, pady=10)\n",
    "entry_bedrooms = tk.Entry(window)\n",
    "entry_bedrooms.grid(column=1, row=1)\n",
    "\n",
    "label_bathrooms = tk.Label(window, text=\"Number of bathrooms: \")\n",
    "label_bathrooms.grid(column=0, row=2, padx=10, pady=10)\n",
    "entry_bathrooms = tk.Entry(window)\n",
    "entry_bathrooms.grid(column=1, row=2)\n",
    "\n",
    "label_age = tk.Label(window, text=\"Age of the house: \")\n",
    "label_age.grid(column=0, row=3, padx=10, pady=10)\n",
    "entry_age = tk.Entry(window)\n",
    "entry_age.grid(column=1, row=3)"
   ]
  },
  {
   "cell_type": "code",
   "execution_count": 20,
   "id": "de438392",
   "metadata": {},
   "outputs": [],
   "source": [
    "# create a button to predict house price\n",
    "def predict_price():\n",
    "    # read the house price dataset\n",
    "    path = os.path.join('c:' + os.sep, 'Users', 'Dell', 'Desktop', 'S', 'jupyter', 'DATAset', 'house.csv')\n",
    "    dataset = pd.read_csv(path)\n",
    "\n",
    "    # extract the features and target\n",
    "    X = dataset.iloc[:, :-1].values\n",
    "    y = dataset.iloc[:, -1].values\n",
    "\n",
    "    # create a linear regression model and train it\n",
    "    regressor = LinearRegression()\n",
    "    regressor.fit(X, y)\n",
    "\n",
    "    # get the values from the entry widgets and convert them to floats\n",
    "    area = float(entry_area.get())\n",
    "    bedrooms = float(entry_bedrooms.get())\n",
    "    bathrooms = float(entry_bathrooms.get())\n",
    "    age = float(entry_age.get())\n",
    "\n",
    "    # make a prediction\n",
    "    prediction = regressor.predict([[area, bedrooms, bathrooms, age]])\n",
    "\n",
    "    # show the predicted price in a message box\n",
    "    messagebox.showinfo(\"Prediction\", \"The predicted price is: Rs.%.2f\" % prediction[0])\n",
    "\n",
    "button_predict = tk.Button(window, text=\"Predict Price\", command=predict_price)\n",
    "button_predict.grid(column=1, row=4, pady=10)"
   ]
  },
  {
   "cell_type": "code",
   "execution_count": 21,
   "id": "3c745005",
   "metadata": {},
   "outputs": [],
   "source": [
    "# run the tkinter window\n",
    "window.mainloop()"
   ]
  },
  {
   "cell_type": "code",
   "execution_count": null,
   "id": "268f49b3",
   "metadata": {},
   "outputs": [],
   "source": []
  }
 ],
 "metadata": {
  "kernelspec": {
   "display_name": "Python 3 (ipykernel)",
   "language": "python",
   "name": "python3"
  },
  "language_info": {
   "codemirror_mode": {
    "name": "ipython",
    "version": 3
   },
   "file_extension": ".py",
   "mimetype": "text/x-python",
   "name": "python",
   "nbconvert_exporter": "python",
   "pygments_lexer": "ipython3",
   "version": "3.10.4"
  }
 },
 "nbformat": 4,
 "nbformat_minor": 5
}
